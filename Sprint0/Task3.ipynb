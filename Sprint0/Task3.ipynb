{
 "cells": [
  {
   "cell_type": "markdown",
   "metadata": {},
   "source": [
    "<h1 style=\"color:DodgerBlue\">Индивидальный проект</h1>"
   ]
  },
  {
   "cell_type": "markdown",
   "metadata": {},
   "source": [
    "<h2 style=\"color:DodgerBlue\">Название проекта:</h2>\n",
    "\n",
    "----\n",
    "\n",
    "### Вариант задания №11\n"
   ]
  },
  {
   "cell_type": "markdown",
   "metadata": {},
   "source": [
    "<h2 style=\"color:DodgerBlue\">Описание проекта:</h2>\n",
    "\n",
    "----\n",
    "\n",
    "Создать базовый класс Customer в C#, который будет представлять информацию о\n",
    "клиентах или покупателях. На основе этого класса разработать 2-3 производных\n",
    "класса, демонстрирующих принципы наследования и полиморфизма. В каждом из\n",
    "классов должны быть реализованы новые атрибуты и методы, а также\n",
    "переопределены некоторые методы базового класса для демонстрации\n",
    "полиморфизма.\n",
    "\n",
    "Требования к базовому классу Customer:\n",
    "\n",
    "• Атрибуты: Идентификатор клиента (CustomerId), Имя (Name), Электронная\n",
    "    почта (Email).\n",
    "\n",
    "• Методы:\n",
    "\n",
    "    o GetFullName(): метод для получения полного имени клиента.\n",
    "\n",
    "    o UpdateEmail(string newEmail): метод для обновления электронной\n",
    "        почты клиента.\n",
    "\n",
    "    o ViewProfile(): метод для просмотра профиля клиента.\n",
    "\n",
    "Требования к производным классам:\n",
    "\n",
    "    1. VIPКлиент (VipCustomer): Должен содержать дополнительные атрибуты,\n",
    "    такие как Баланс лояльности (LoyaltyPoints). Метод ViewProfile() должен быть\n",
    "    переопределен для отображения дополнительной информации о VIPклиенте.\n",
    "\n",
    "    2. ОбычныйКлиент (RegularCustomer): Должен содержать дополнительные\n",
    "    атрибуты, такие как Дата регистрации (RegistrationDate).\n",
    "    Метод UpdateEmail() должен быть переопределен для добавления\n",
    "    информации о дате последнего обновления электронной почты.\n",
    "    \n",
    "    3. ГрупповойКлиент (GroupCustomer) (если требуется третий класс): Должен\n",
    "    содержать дополнительные атрибуты, такие как Название группы\n",
    "    (GroupName). Метод GetFullName() должен быть переопределен для\n",
    "    отображения названия группы вместо имени клиента.\n"
   ]
  },
  {
   "cell_type": "markdown",
   "metadata": {},
   "source": [
    "<h2 style=\"color:DodgerBlue\">Реализация:</h2>\n",
    "\n",
    "----"
   ]
  },
  {
   "cell_type": "code",
   "execution_count": 2,
   "metadata": {
    "dotnet_interactive": {
     "language": "csharp"
    },
    "polyglot_notebook": {
     "kernelName": "csharp"
    }
   },
   "outputs": [
    {
     "name": "stdout",
     "output_type": "stream",
     "text": [
      "Профиль обычного клиента:\n",
      "ID: 1, Имя: Иван Иванов, Email: ivan@example.com\n",
      "Email обновлён на: ivan.new@example.com\n",
      "Дата последнего обновления электронной почты: 9/10/2024 8:19:40 PM\n",
      "\n",
      "Профиль VIP клиента:\n",
      "ID: 2, Имя: Петр Петров, Email: petr@example.com\n",
      "Баланс лояльности: 150\n",
      "\n",
      "Профиль группового клиента:\n",
      "ID: 3, Имя: , Email: groupA@example.com\n",
      "Полное имя группы: Группа A\n"
     ]
    }
   ],
   "source": [
    "using System;\n",
    "\n",
    "\n",
    "public class Customer\n",
    "{\n",
    "    // Атрибуты\n",
    "    public int CustomerId;      \n",
    "    public string Name;           \n",
    "    public string Email;       \n",
    "\n",
    "    // Метод для получения полного имени клиента\n",
    "    public virtual string GetFullName()\n",
    "    {\n",
    "        return Name;\n",
    "    }\n",
    "\n",
    "    // Метод для обновления электронной почты клиента\n",
    "    public virtual void UpdateEmail(string newEmail)\n",
    "    {\n",
    "        Email = newEmail;\n",
    "        Console.WriteLine($\"Email обновлён на: {newEmail}\");\n",
    "    }\n",
    "\n",
    "    // Метод для просмотра профиля клиента\n",
    "    public virtual void ViewProfile()\n",
    "    {\n",
    "        Console.WriteLine($\"ID: {CustomerId}, Имя: {Name}, Email: {Email}\");\n",
    "    }\n",
    "}\n",
    "\n",
    "public class VipCustomer : Customer\n",
    "{\n",
    "    // Дополнительный атрибут\n",
    "    public int LoyaltyPoints;      \n",
    "\n",
    "    // Переопределение метода ViewProfile для VIP-клиента\n",
    "    public override void ViewProfile()\n",
    "    {\n",
    "        base.ViewProfile();\n",
    "        Console.WriteLine($\"Баланс лояльности: {LoyaltyPoints}\");\n",
    "    }\n",
    "}\n",
    "\n",
    "public class RegularCustomer : Customer\n",
    "{\n",
    "    // Дополнительный атрибут\n",
    "    public DateTime RegistrationDate; \n",
    "\n",
    "    // Переопределение метода UpdateEmail для добавления информации об обновлении\n",
    "    public override void UpdateEmail(string newEmail)\n",
    "    {\n",
    "        base.UpdateEmail(newEmail);\n",
    "        Console.WriteLine($\"Дата последнего обновления электронной почты: {DateTime.Now}\");\n",
    "    }\n",
    "}\n",
    "\n",
    "public class GroupCustomer : Customer\n",
    "{\n",
    "    // Дополнительный атрибут\n",
    "    public string GroupName;\n",
    "\n",
    "    // Переопределение метода GetFullName для отображения названия группы\n",
    "    public override string GetFullName()\n",
    "    {\n",
    "        return GroupName;\n",
    "    }\n",
    "}\n",
    "\n",
    "// Создание обычного клиента\n",
    "RegularCustomer regularCustomer = new RegularCustomer\n",
    "{\n",
    "    CustomerId = 1,\n",
    "    Name = \"Иван Иванов\",\n",
    "    Email = \"ivan@example.com\",\n",
    "    RegistrationDate = DateTime.Now\n",
    "};\n",
    "Console.WriteLine(\"Профиль обычного клиента:\");\n",
    "regularCustomer.ViewProfile();\n",
    "regularCustomer.UpdateEmail(\"ivan.new@example.com\");\n",
    "\n",
    "// Создание VIP клиента\n",
    "VipCustomer vipCustomer = new VipCustomer\n",
    "{\n",
    "    CustomerId = 2,\n",
    "    Name = \"Петр Петров\",\n",
    "    Email = \"petr@example.com\",\n",
    "    LoyaltyPoints = 150\n",
    "};\n",
    "Console.WriteLine(\"\\nПрофиль VIP клиента:\");\n",
    "vipCustomer.ViewProfile();\n",
    "\n",
    "// Создание группового клиента\n",
    "GroupCustomer groupCustomer = new GroupCustomer\n",
    "{\n",
    "    CustomerId = 3,\n",
    "    GroupName = \"Группа A\",\n",
    "    Email = \"groupA@example.com\"\n",
    "};\n",
    "Console.WriteLine(\"\\nПрофиль группового клиента:\");\n",
    "groupCustomer.ViewProfile();\n",
    "Console.WriteLine($\"Полное имя группы: {groupCustomer.GetFullName()}\");"
   ]
  }
 ],
 "metadata": {
  "kernelspec": {
   "display_name": ".NET (C#)",
   "language": "C#",
   "name": ".net-csharp"
  },
  "polyglot_notebook": {
   "kernelInfo": {
    "defaultKernelName": "csharp",
    "items": [
     {
      "aliases": [],
      "languageName": "csharp",
      "name": "csharp"
     }
    ]
   }
  }
 },
 "nbformat": 4,
 "nbformat_minor": 2
}
